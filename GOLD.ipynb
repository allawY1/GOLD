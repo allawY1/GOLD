{
 "cells": [
  {
   "cell_type": "code",
   "execution_count": 1,
   "id": "8ac882d2",
   "metadata": {},
   "outputs": [],
   "source": [
    "import numpy as np\n",
    "import pandas as pd\n",
    "import matplotlib.pyplot as plt \n",
    "import seaborn as sns \n",
    "sns.set()"
   ]
  },
  {
   "cell_type": "markdown",
   "id": "879f50f8",
   "metadata": {},
   "source": [
    "#read_data"
   ]
  },
  {
   "cell_type": "code",
   "execution_count": 2,
   "id": "780af6cf",
   "metadata": {},
   "outputs": [],
   "source": [
    "df=pd.read_csv(\"gold.csv\")"
   ]
  },
  {
   "cell_type": "code",
   "execution_count": 3,
   "id": "912fcbcf",
   "metadata": {},
   "outputs": [
    {
     "data": {
      "text/html": [
       "<div>\n",
       "<style scoped>\n",
       "    .dataframe tbody tr th:only-of-type {\n",
       "        vertical-align: middle;\n",
       "    }\n",
       "\n",
       "    .dataframe tbody tr th {\n",
       "        vertical-align: top;\n",
       "    }\n",
       "\n",
       "    .dataframe thead th {\n",
       "        text-align: right;\n",
       "    }\n",
       "</style>\n",
       "<table border=\"1\" class=\"dataframe\">\n",
       "  <thead>\n",
       "    <tr style=\"text-align: right;\">\n",
       "      <th></th>\n",
       "      <th>Date</th>\n",
       "      <th>Open</th>\n",
       "      <th>High</th>\n",
       "      <th>Low</th>\n",
       "      <th>Close</th>\n",
       "      <th>Volume</th>\n",
       "      <th>Currency</th>\n",
       "    </tr>\n",
       "  </thead>\n",
       "  <tbody>\n",
       "    <tr>\n",
       "      <th>0</th>\n",
       "      <td>2000-01-04</td>\n",
       "      <td>281.0</td>\n",
       "      <td>281.0</td>\n",
       "      <td>281.0</td>\n",
       "      <td>282.7</td>\n",
       "      <td>4</td>\n",
       "      <td>USD</td>\n",
       "    </tr>\n",
       "    <tr>\n",
       "      <th>1</th>\n",
       "      <td>2000-01-05</td>\n",
       "      <td>283.2</td>\n",
       "      <td>283.2</td>\n",
       "      <td>283.2</td>\n",
       "      <td>281.1</td>\n",
       "      <td>16</td>\n",
       "      <td>USD</td>\n",
       "    </tr>\n",
       "    <tr>\n",
       "      <th>2</th>\n",
       "      <td>2000-01-06</td>\n",
       "      <td>281.4</td>\n",
       "      <td>281.4</td>\n",
       "      <td>281.4</td>\n",
       "      <td>281.4</td>\n",
       "      <td>0</td>\n",
       "      <td>USD</td>\n",
       "    </tr>\n",
       "    <tr>\n",
       "      <th>3</th>\n",
       "      <td>2000-01-07</td>\n",
       "      <td>281.9</td>\n",
       "      <td>281.9</td>\n",
       "      <td>281.9</td>\n",
       "      <td>281.9</td>\n",
       "      <td>0</td>\n",
       "      <td>USD</td>\n",
       "    </tr>\n",
       "    <tr>\n",
       "      <th>4</th>\n",
       "      <td>2000-01-10</td>\n",
       "      <td>281.7</td>\n",
       "      <td>281.7</td>\n",
       "      <td>281.7</td>\n",
       "      <td>281.7</td>\n",
       "      <td>0</td>\n",
       "      <td>USD</td>\n",
       "    </tr>\n",
       "  </tbody>\n",
       "</table>\n",
       "</div>"
      ],
      "text/plain": [
       "         Date   Open   High    Low  Close  Volume Currency\n",
       "0  2000-01-04  281.0  281.0  281.0  282.7       4      USD\n",
       "1  2000-01-05  283.2  283.2  283.2  281.1      16      USD\n",
       "2  2000-01-06  281.4  281.4  281.4  281.4       0      USD\n",
       "3  2000-01-07  281.9  281.9  281.9  281.9       0      USD\n",
       "4  2000-01-10  281.7  281.7  281.7  281.7       0      USD"
      ]
     },
     "execution_count": 3,
     "metadata": {},
     "output_type": "execute_result"
    }
   ],
   "source": [
    "df.head()"
   ]
  },
  {
   "cell_type": "code",
   "execution_count": 4,
   "id": "0e655d6f",
   "metadata": {},
   "outputs": [
    {
     "data": {
      "text/html": [
       "<div>\n",
       "<style scoped>\n",
       "    .dataframe tbody tr th:only-of-type {\n",
       "        vertical-align: middle;\n",
       "    }\n",
       "\n",
       "    .dataframe tbody tr th {\n",
       "        vertical-align: top;\n",
       "    }\n",
       "\n",
       "    .dataframe thead th {\n",
       "        text-align: right;\n",
       "    }\n",
       "</style>\n",
       "<table border=\"1\" class=\"dataframe\">\n",
       "  <thead>\n",
       "    <tr style=\"text-align: right;\">\n",
       "      <th></th>\n",
       "      <th>Date</th>\n",
       "      <th>Open</th>\n",
       "      <th>High</th>\n",
       "      <th>Low</th>\n",
       "      <th>Close</th>\n",
       "      <th>Volume</th>\n",
       "      <th>Currency</th>\n",
       "    </tr>\n",
       "  </thead>\n",
       "  <tbody>\n",
       "    <tr>\n",
       "      <th>5774</th>\n",
       "      <td>2022-07-21</td>\n",
       "      <td>1693.70</td>\n",
       "      <td>1719.50</td>\n",
       "      <td>1678.4</td>\n",
       "      <td>1713.40</td>\n",
       "      <td>0</td>\n",
       "      <td>USD</td>\n",
       "    </tr>\n",
       "    <tr>\n",
       "      <th>5775</th>\n",
       "      <td>2022-07-22</td>\n",
       "      <td>1717.20</td>\n",
       "      <td>1738.30</td>\n",
       "      <td>1711.7</td>\n",
       "      <td>1727.40</td>\n",
       "      <td>0</td>\n",
       "      <td>USD</td>\n",
       "    </tr>\n",
       "    <tr>\n",
       "      <th>5776</th>\n",
       "      <td>2022-07-24</td>\n",
       "      <td>1724.35</td>\n",
       "      <td>1725.05</td>\n",
       "      <td>1722.3</td>\n",
       "      <td>1722.55</td>\n",
       "      <td>0</td>\n",
       "      <td>USD</td>\n",
       "    </tr>\n",
       "    <tr>\n",
       "      <th>5777</th>\n",
       "      <td>2022-07-25</td>\n",
       "      <td>1726.30</td>\n",
       "      <td>1734.60</td>\n",
       "      <td>1712.9</td>\n",
       "      <td>1719.10</td>\n",
       "      <td>0</td>\n",
       "      <td>USD</td>\n",
       "    </tr>\n",
       "    <tr>\n",
       "      <th>5778</th>\n",
       "      <td>2022-07-26</td>\n",
       "      <td>1719.65</td>\n",
       "      <td>1726.30</td>\n",
       "      <td>1718.9</td>\n",
       "      <td>1722.25</td>\n",
       "      <td>0</td>\n",
       "      <td>USD</td>\n",
       "    </tr>\n",
       "  </tbody>\n",
       "</table>\n",
       "</div>"
      ],
      "text/plain": [
       "            Date     Open     High     Low    Close  Volume Currency\n",
       "5774  2022-07-21  1693.70  1719.50  1678.4  1713.40       0      USD\n",
       "5775  2022-07-22  1717.20  1738.30  1711.7  1727.40       0      USD\n",
       "5776  2022-07-24  1724.35  1725.05  1722.3  1722.55       0      USD\n",
       "5777  2022-07-25  1726.30  1734.60  1712.9  1719.10       0      USD\n",
       "5778  2022-07-26  1719.65  1726.30  1718.9  1722.25       0      USD"
      ]
     },
     "execution_count": 4,
     "metadata": {},
     "output_type": "execute_result"
    }
   ],
   "source": [
    "df.tail()"
   ]
  },
  {
   "cell_type": "markdown",
   "id": "bd50dd6c",
   "metadata": {},
   "source": [
    "#describe_data"
   ]
  },
  {
   "cell_type": "code",
   "execution_count": 5,
   "id": "38779740",
   "metadata": {},
   "outputs": [
    {
     "name": "stdout",
     "output_type": "stream",
     "text": [
      "<class 'pandas.core.frame.DataFrame'>\n",
      "RangeIndex: 5779 entries, 0 to 5778\n",
      "Data columns (total 7 columns):\n",
      " #   Column    Non-Null Count  Dtype  \n",
      "---  ------    --------------  -----  \n",
      " 0   Date      5779 non-null   object \n",
      " 1   Open      5779 non-null   float64\n",
      " 2   High      5779 non-null   float64\n",
      " 3   Low       5779 non-null   float64\n",
      " 4   Close     5779 non-null   float64\n",
      " 5   Volume    5779 non-null   int64  \n",
      " 6   Currency  5779 non-null   object \n",
      "dtypes: float64(4), int64(1), object(2)\n",
      "memory usage: 316.2+ KB\n"
     ]
    }
   ],
   "source": [
    "df.info()"
   ]
  },
  {
   "cell_type": "code",
   "execution_count": 6,
   "id": "023d8342",
   "metadata": {},
   "outputs": [
    {
     "data": {
      "text/html": [
       "<div>\n",
       "<style scoped>\n",
       "    .dataframe tbody tr th:only-of-type {\n",
       "        vertical-align: middle;\n",
       "    }\n",
       "\n",
       "    .dataframe tbody tr th {\n",
       "        vertical-align: top;\n",
       "    }\n",
       "\n",
       "    .dataframe thead th {\n",
       "        text-align: right;\n",
       "    }\n",
       "</style>\n",
       "<table border=\"1\" class=\"dataframe\">\n",
       "  <thead>\n",
       "    <tr style=\"text-align: right;\">\n",
       "      <th></th>\n",
       "      <th>Open</th>\n",
       "      <th>High</th>\n",
       "      <th>Low</th>\n",
       "      <th>Close</th>\n",
       "      <th>Volume</th>\n",
       "    </tr>\n",
       "  </thead>\n",
       "  <tbody>\n",
       "    <tr>\n",
       "      <th>count</th>\n",
       "      <td>5779.000000</td>\n",
       "      <td>5779.000000</td>\n",
       "      <td>5779.000000</td>\n",
       "      <td>5779.000000</td>\n",
       "      <td>5779.000000</td>\n",
       "    </tr>\n",
       "    <tr>\n",
       "      <th>mean</th>\n",
       "      <td>1044.551120</td>\n",
       "      <td>1050.428815</td>\n",
       "      <td>1038.251678</td>\n",
       "      <td>1048.109945</td>\n",
       "      <td>32033.913480</td>\n",
       "    </tr>\n",
       "    <tr>\n",
       "      <th>std</th>\n",
       "      <td>517.307125</td>\n",
       "      <td>520.858833</td>\n",
       "      <td>513.308391</td>\n",
       "      <td>519.782523</td>\n",
       "      <td>89350.399794</td>\n",
       "    </tr>\n",
       "    <tr>\n",
       "      <th>min</th>\n",
       "      <td>255.000000</td>\n",
       "      <td>255.000000</td>\n",
       "      <td>255.000000</td>\n",
       "      <td>255.100000</td>\n",
       "      <td>0.000000</td>\n",
       "    </tr>\n",
       "    <tr>\n",
       "      <th>25%</th>\n",
       "      <td>468.600000</td>\n",
       "      <td>469.500000</td>\n",
       "      <td>468.050000</td>\n",
       "      <td>468.600000</td>\n",
       "      <td>17.000000</td>\n",
       "    </tr>\n",
       "    <tr>\n",
       "      <th>50%</th>\n",
       "      <td>1194.500000</td>\n",
       "      <td>1201.000000</td>\n",
       "      <td>1186.300000</td>\n",
       "      <td>1197.200000</td>\n",
       "      <td>177.000000</td>\n",
       "    </tr>\n",
       "    <tr>\n",
       "      <th>75%</th>\n",
       "      <td>1379.950000</td>\n",
       "      <td>1389.900000</td>\n",
       "      <td>1370.950000</td>\n",
       "      <td>1398.750000</td>\n",
       "      <td>1289.000000</td>\n",
       "    </tr>\n",
       "    <tr>\n",
       "      <th>max</th>\n",
       "      <td>2062.400000</td>\n",
       "      <td>2085.200000</td>\n",
       "      <td>2033.600000</td>\n",
       "      <td>2054.600000</td>\n",
       "      <td>816531.000000</td>\n",
       "    </tr>\n",
       "  </tbody>\n",
       "</table>\n",
       "</div>"
      ],
      "text/plain": [
       "              Open         High          Low        Close         Volume\n",
       "count  5779.000000  5779.000000  5779.000000  5779.000000    5779.000000\n",
       "mean   1044.551120  1050.428815  1038.251678  1048.109945   32033.913480\n",
       "std     517.307125   520.858833   513.308391   519.782523   89350.399794\n",
       "min     255.000000   255.000000   255.000000   255.100000       0.000000\n",
       "25%     468.600000   469.500000   468.050000   468.600000      17.000000\n",
       "50%    1194.500000  1201.000000  1186.300000  1197.200000     177.000000\n",
       "75%    1379.950000  1389.900000  1370.950000  1398.750000    1289.000000\n",
       "max    2062.400000  2085.200000  2033.600000  2054.600000  816531.000000"
      ]
     },
     "execution_count": 6,
     "metadata": {},
     "output_type": "execute_result"
    }
   ],
   "source": [
    "df.describe()"
   ]
  },
  {
   "cell_type": "code",
   "execution_count": 7,
   "id": "7e1ed44c",
   "metadata": {},
   "outputs": [
    {
     "data": {
      "text/html": [
       "<div>\n",
       "<style scoped>\n",
       "    .dataframe tbody tr th:only-of-type {\n",
       "        vertical-align: middle;\n",
       "    }\n",
       "\n",
       "    .dataframe tbody tr th {\n",
       "        vertical-align: top;\n",
       "    }\n",
       "\n",
       "    .dataframe thead th {\n",
       "        text-align: right;\n",
       "    }\n",
       "</style>\n",
       "<table border=\"1\" class=\"dataframe\">\n",
       "  <thead>\n",
       "    <tr style=\"text-align: right;\">\n",
       "      <th></th>\n",
       "      <th>Open</th>\n",
       "      <th>High</th>\n",
       "      <th>Low</th>\n",
       "      <th>Close</th>\n",
       "      <th>Volume</th>\n",
       "    </tr>\n",
       "  </thead>\n",
       "  <tbody>\n",
       "    <tr>\n",
       "      <th>Open</th>\n",
       "      <td>1.000000</td>\n",
       "      <td>0.999892</td>\n",
       "      <td>0.999844</td>\n",
       "      <td>0.998985</td>\n",
       "      <td>0.242495</td>\n",
       "    </tr>\n",
       "    <tr>\n",
       "      <th>High</th>\n",
       "      <td>0.999892</td>\n",
       "      <td>1.000000</td>\n",
       "      <td>0.999787</td>\n",
       "      <td>0.999061</td>\n",
       "      <td>0.243857</td>\n",
       "    </tr>\n",
       "    <tr>\n",
       "      <th>Low</th>\n",
       "      <td>0.999844</td>\n",
       "      <td>0.999787</td>\n",
       "      <td>1.000000</td>\n",
       "      <td>0.999128</td>\n",
       "      <td>0.240475</td>\n",
       "    </tr>\n",
       "    <tr>\n",
       "      <th>Close</th>\n",
       "      <td>0.998985</td>\n",
       "      <td>0.999061</td>\n",
       "      <td>0.999128</td>\n",
       "      <td>1.000000</td>\n",
       "      <td>0.239310</td>\n",
       "    </tr>\n",
       "    <tr>\n",
       "      <th>Volume</th>\n",
       "      <td>0.242495</td>\n",
       "      <td>0.243857</td>\n",
       "      <td>0.240475</td>\n",
       "      <td>0.239310</td>\n",
       "      <td>1.000000</td>\n",
       "    </tr>\n",
       "  </tbody>\n",
       "</table>\n",
       "</div>"
      ],
      "text/plain": [
       "            Open      High       Low     Close    Volume\n",
       "Open    1.000000  0.999892  0.999844  0.998985  0.242495\n",
       "High    0.999892  1.000000  0.999787  0.999061  0.243857\n",
       "Low     0.999844  0.999787  1.000000  0.999128  0.240475\n",
       "Close   0.998985  0.999061  0.999128  1.000000  0.239310\n",
       "Volume  0.242495  0.243857  0.240475  0.239310  1.000000"
      ]
     },
     "execution_count": 7,
     "metadata": {},
     "output_type": "execute_result"
    }
   ],
   "source": [
    "df.corr()"
   ]
  },
  {
   "cell_type": "code",
   "execution_count": 8,
   "id": "a0052473",
   "metadata": {},
   "outputs": [
    {
     "data": {
      "text/plain": [
       "Date        5779\n",
       "Open        5779\n",
       "High        5779\n",
       "Low         5779\n",
       "Close       5779\n",
       "Volume      5779\n",
       "Currency    5779\n",
       "dtype: int64"
      ]
     },
     "execution_count": 8,
     "metadata": {},
     "output_type": "execute_result"
    }
   ],
   "source": [
    "df.count()"
   ]
  },
  {
   "cell_type": "code",
   "execution_count": 9,
   "id": "42d6dc04",
   "metadata": {},
   "outputs": [
    {
     "data": {
      "text/plain": [
       "Index(['Date', 'Open', 'High', 'Low', 'Close', 'Volume', 'Currency'], dtype='object')"
      ]
     },
     "execution_count": 9,
     "metadata": {},
     "output_type": "execute_result"
    }
   ],
   "source": [
    "df.columns"
   ]
  },
  {
   "cell_type": "code",
   "execution_count": 10,
   "id": "fa4fbec8",
   "metadata": {},
   "outputs": [
    {
     "data": {
      "text/plain": [
       "RangeIndex(start=0, stop=5779, step=1)"
      ]
     },
     "execution_count": 10,
     "metadata": {},
     "output_type": "execute_result"
    }
   ],
   "source": [
    "df.index"
   ]
  },
  {
   "cell_type": "code",
   "execution_count": 11,
   "id": "b94b6f84",
   "metadata": {},
   "outputs": [
    {
     "data": {
      "text/plain": [
       "Date         object\n",
       "Open        float64\n",
       "High        float64\n",
       "Low         float64\n",
       "Close       float64\n",
       "Volume        int64\n",
       "Currency     object\n",
       "dtype: object"
      ]
     },
     "execution_count": 11,
     "metadata": {},
     "output_type": "execute_result"
    }
   ],
   "source": [
    "df.dtypes"
   ]
  },
  {
   "cell_type": "code",
   "execution_count": 12,
   "id": "027b15e9",
   "metadata": {},
   "outputs": [
    {
     "data": {
      "text/html": [
       "<div>\n",
       "<style scoped>\n",
       "    .dataframe tbody tr th:only-of-type {\n",
       "        vertical-align: middle;\n",
       "    }\n",
       "\n",
       "    .dataframe tbody tr th {\n",
       "        vertical-align: top;\n",
       "    }\n",
       "\n",
       "    .dataframe thead th {\n",
       "        text-align: right;\n",
       "    }\n",
       "</style>\n",
       "<table border=\"1\" class=\"dataframe\">\n",
       "  <thead>\n",
       "    <tr style=\"text-align: right;\">\n",
       "      <th></th>\n",
       "      <th>Open</th>\n",
       "      <th>High</th>\n",
       "      <th>Low</th>\n",
       "      <th>Close</th>\n",
       "      <th>Volume</th>\n",
       "    </tr>\n",
       "  </thead>\n",
       "  <tbody>\n",
       "    <tr>\n",
       "      <th>Open</th>\n",
       "      <td>2.676067e+05</td>\n",
       "      <td>2.694148e+05</td>\n",
       "      <td>2.654966e+05</td>\n",
       "      <td>2.686144e+05</td>\n",
       "      <td>1.120850e+07</td>\n",
       "    </tr>\n",
       "    <tr>\n",
       "      <th>High</th>\n",
       "      <td>2.694148e+05</td>\n",
       "      <td>2.712939e+05</td>\n",
       "      <td>2.673041e+05</td>\n",
       "      <td>2.704791e+05</td>\n",
       "      <td>1.134884e+07</td>\n",
       "    </tr>\n",
       "    <tr>\n",
       "      <th>Low</th>\n",
       "      <td>2.654966e+05</td>\n",
       "      <td>2.673041e+05</td>\n",
       "      <td>2.634855e+05</td>\n",
       "      <td>2.665761e+05</td>\n",
       "      <td>1.102920e+07</td>\n",
       "    </tr>\n",
       "    <tr>\n",
       "      <th>Close</th>\n",
       "      <td>2.686144e+05</td>\n",
       "      <td>2.704791e+05</td>\n",
       "      <td>2.665761e+05</td>\n",
       "      <td>2.701739e+05</td>\n",
       "      <td>1.111420e+07</td>\n",
       "    </tr>\n",
       "    <tr>\n",
       "      <th>Volume</th>\n",
       "      <td>1.120850e+07</td>\n",
       "      <td>1.134884e+07</td>\n",
       "      <td>1.102920e+07</td>\n",
       "      <td>1.111420e+07</td>\n",
       "      <td>7.983494e+09</td>\n",
       "    </tr>\n",
       "  </tbody>\n",
       "</table>\n",
       "</div>"
      ],
      "text/plain": [
       "                Open          High           Low         Close        Volume\n",
       "Open    2.676067e+05  2.694148e+05  2.654966e+05  2.686144e+05  1.120850e+07\n",
       "High    2.694148e+05  2.712939e+05  2.673041e+05  2.704791e+05  1.134884e+07\n",
       "Low     2.654966e+05  2.673041e+05  2.634855e+05  2.665761e+05  1.102920e+07\n",
       "Close   2.686144e+05  2.704791e+05  2.665761e+05  2.701739e+05  1.111420e+07\n",
       "Volume  1.120850e+07  1.134884e+07  1.102920e+07  1.111420e+07  7.983494e+09"
      ]
     },
     "execution_count": 12,
     "metadata": {},
     "output_type": "execute_result"
    }
   ],
   "source": [
    "df.cov()"
   ]
  },
  {
   "cell_type": "code",
   "execution_count": 13,
   "id": "5ce727e3",
   "metadata": {},
   "outputs": [
    {
     "data": {
      "text/plain": [
       "<bound method DataFrame.items of             Date     Open     High     Low    Close  Volume Currency\n",
       "0     2000-01-04   281.00   281.00   281.0   282.70       4      USD\n",
       "1     2000-01-05   283.20   283.20   283.2   281.10      16      USD\n",
       "2     2000-01-06   281.40   281.40   281.4   281.40       0      USD\n",
       "3     2000-01-07   281.90   281.90   281.9   281.90       0      USD\n",
       "4     2000-01-10   281.70   281.70   281.7   281.70       0      USD\n",
       "...          ...      ...      ...     ...      ...     ...      ...\n",
       "5774  2022-07-21  1693.70  1719.50  1678.4  1713.40       0      USD\n",
       "5775  2022-07-22  1717.20  1738.30  1711.7  1727.40       0      USD\n",
       "5776  2022-07-24  1724.35  1725.05  1722.3  1722.55       0      USD\n",
       "5777  2022-07-25  1726.30  1734.60  1712.9  1719.10       0      USD\n",
       "5778  2022-07-26  1719.65  1726.30  1718.9  1722.25       0      USD\n",
       "\n",
       "[5779 rows x 7 columns]>"
      ]
     },
     "execution_count": 13,
     "metadata": {},
     "output_type": "execute_result"
    }
   ],
   "source": [
    "df.items"
   ]
  },
  {
   "cell_type": "markdown",
   "id": "771a37ff",
   "metadata": {},
   "source": [
    "#preprocessing"
   ]
  },
  {
   "cell_type": "code",
   "execution_count": 14,
   "id": "c58d0b67",
   "metadata": {},
   "outputs": [
    {
     "data": {
      "text/plain": [
       "0"
      ]
     },
     "execution_count": 14,
     "metadata": {},
     "output_type": "execute_result"
    }
   ],
   "source": [
    "mask=df.isna().any(axis=0)\n",
    "mask.sum()"
   ]
  },
  {
   "cell_type": "code",
   "execution_count": 15,
   "id": "04a070ca",
   "metadata": {},
   "outputs": [
    {
     "data": {
      "text/plain": [
       "0"
      ]
     },
     "execution_count": 15,
     "metadata": {},
     "output_type": "execute_result"
    }
   ],
   "source": [
    "mask1=df.isna().any(axis=1)\n",
    "mask1.sum()"
   ]
  },
  {
   "cell_type": "code",
   "execution_count": 16,
   "id": "7db72944",
   "metadata": {},
   "outputs": [
    {
     "data": {
      "text/plain": [
       "Date        0\n",
       "Open        0\n",
       "High        0\n",
       "Low         0\n",
       "Close       0\n",
       "Volume      0\n",
       "Currency    0\n",
       "dtype: int64"
      ]
     },
     "execution_count": 16,
     "metadata": {},
     "output_type": "execute_result"
    }
   ],
   "source": [
    "df.isnull().sum()"
   ]
  },
  {
   "cell_type": "code",
   "execution_count": 17,
   "id": "77510783",
   "metadata": {},
   "outputs": [
    {
     "data": {
      "text/plain": [
       "0"
      ]
     },
     "execution_count": 17,
     "metadata": {},
     "output_type": "execute_result"
    }
   ],
   "source": [
    "df.duplicated().sum()"
   ]
  },
  {
   "cell_type": "code",
   "execution_count": 18,
   "id": "7e99fbdc",
   "metadata": {},
   "outputs": [
    {
     "name": "stdout",
     "output_type": "stream",
     "text": [
      "Open\n",
      "High\n",
      "Low\n",
      "Close\n"
     ]
    }
   ],
   "source": [
    "for col_name in df.select_dtypes(include=np.number).columns[:-1]:\n",
    "    print(col_name)"
   ]
  },
  {
   "cell_type": "code",
   "execution_count": 19,
   "id": "35933255",
   "metadata": {},
   "outputs": [
    {
     "data": {
      "text/plain": [
       "468.6"
      ]
     },
     "execution_count": 19,
     "metadata": {},
     "output_type": "execute_result"
    }
   ],
   "source": [
    "q1 = df[col_name].quantile(0.25)\n",
    "q1    "
   ]
  },
  {
   "cell_type": "code",
   "execution_count": 20,
   "id": "6f263d07",
   "metadata": {},
   "outputs": [
    {
     "data": {
      "text/plain": [
       "1398.75"
      ]
     },
     "execution_count": 20,
     "metadata": {},
     "output_type": "execute_result"
    }
   ],
   "source": [
    "q3 = df[col_name].quantile(0.75)\n",
    "q3"
   ]
  },
  {
   "cell_type": "code",
   "execution_count": 21,
   "id": "d2798498",
   "metadata": {},
   "outputs": [
    {
     "data": {
      "text/plain": [
       "930.15"
      ]
     },
     "execution_count": 21,
     "metadata": {},
     "output_type": "execute_result"
    }
   ],
   "source": [
    "iqr = q3 - q1\n",
    "iqr"
   ]
  },
  {
   "cell_type": "code",
   "execution_count": 22,
   "id": "d2ec8d22",
   "metadata": {},
   "outputs": [
    {
     "data": {
      "text/plain": [
       "-926.6249999999999"
      ]
     },
     "execution_count": 22,
     "metadata": {},
     "output_type": "execute_result"
    }
   ],
   "source": [
    "low = q1-1.5*iqr\n",
    "low"
   ]
  },
  {
   "cell_type": "code",
   "execution_count": 23,
   "id": "044e7b5d",
   "metadata": {},
   "outputs": [
    {
     "data": {
      "text/plain": [
       "2793.975"
      ]
     },
     "execution_count": 23,
     "metadata": {},
     "output_type": "execute_result"
    }
   ],
   "source": [
    "high = q3+1.5*iqr\n",
    "high"
   ]
  },
  {
   "cell_type": "code",
   "execution_count": 24,
   "id": "f456337a",
   "metadata": {},
   "outputs": [
    {
     "name": "stdout",
     "output_type": "stream",
     "text": [
      "Outliers =  Series([], Name: Close, dtype: float64)\n"
     ]
    }
   ],
   "source": [
    "print(\"Outliers = \",df.loc[(df[col_name] < low) | (df[col_name] > high), col_name])"
   ]
  },
  {
   "cell_type": "code",
   "execution_count": 25,
   "id": "d2db90b9",
   "metadata": {},
   "outputs": [
    {
     "data": {
      "text/plain": [
       "<AxesSubplot:ylabel='Close'>"
      ]
     },
     "execution_count": 25,
     "metadata": {},
     "output_type": "execute_result"
    },
    {
     "data": {
      "image/png": "[encoded data removed]",
      "text/plain": [
       "<Figure size 432x288 with 1 Axes>"
      ]
     },
     "metadata": {},
     "output_type": "display_data"
    }
   ],
   "source": [
    "sns.boxplot(y=\"Close\",data=df)"
   ]
  },
  {
   "cell_type": "code",
   "execution_count": 26,
   "id": "74da020f",
   "metadata": {},
   "outputs": [
    {
     "name": "stdout",
     "output_type": "stream",
     "text": [
      "Exclude the Outliers =  0        282.70\n",
      "1        281.10\n",
      "2        281.40\n",
      "3        281.90\n",
      "4        281.70\n",
      "         ...   \n",
      "5774    1713.40\n",
      "5775    1727.40\n",
      "5776    1722.55\n",
      "5777    1719.10\n",
      "5778    1722.25\n",
      "Name: Close, Length: 5779, dtype: float64\n"
     ]
    }
   ],
   "source": [
    " print(\"Exclude the Outliers = \",df.loc[~((df[col_name] < low) | (df[col_name] > high)), col_name])\n",
    "df[col_name] = df.loc[~((df[col_name] < low) | (df[col_name] > high)), col_name]"
   ]
  },
  {
   "cell_type": "code",
   "execution_count": 27,
   "id": "cc2bdec0",
   "metadata": {},
   "outputs": [
    {
     "name": "stdout",
     "output_type": "stream",
     "text": [
      "Change the outliers with median  1197.2\n"
     ]
    }
   ],
   "source": [
    "print(\"Change the outliers with median \",df[col_name].median())\n",
    "df.loc[(df[col_name] < low) | (df[col_name] > high), col_name] = df[col_name].median()\n",
    "    "
   ]
  },
  {
   "cell_type": "code",
   "execution_count": 28,
   "id": "ffd4c322",
   "metadata": {},
   "outputs": [
    {
     "data": {
      "text/plain": [
       "<AxesSubplot:ylabel='Close'>"
      ]
     },
     "execution_count": 28,
     "metadata": {},
     "output_type": "execute_result"
    },
    {
     "data": {
      "image/png": "[encoded data removed]",
      "text/plain": [
       "<Figure size 432x288 with 1 Axes>"
      ]
     },
     "metadata": {},
     "output_type": "display_data"
    }
   ],
   "source": [
    "sns.boxplot(y=\"Close\",data=df)"
   ]
  },
  {
   "cell_type": "markdown",
   "id": "7f102ab8",
   "metadata": {},
   "source": [
    "#analysis"
   ]
  },
  {
   "cell_type": "code",
   "execution_count": 29,
   "id": "4ef78d63",
   "metadata": {},
   "outputs": [
    {
     "data": {
      "text/plain": [
       "Index(['Date', 'Open', 'High', 'Low', 'Close', 'Volume', 'Currency'], dtype='object')"
      ]
     },
     "execution_count": 29,
     "metadata": {},
     "output_type": "execute_result"
    }
   ],
   "source": [
    "df.columns"
   ]
  },
  {
   "cell_type": "code",
   "execution_count": 30,
   "id": "52012b3b",
   "metadata": {},
   "outputs": [
    {
     "data": {
      "text/plain": [
       "Date\n",
       "2000-01-04     281.00\n",
       "2000-01-05     283.20\n",
       "2000-01-06     281.40\n",
       "2000-01-07     281.90\n",
       "2000-01-10     281.70\n",
       "               ...   \n",
       "2022-07-21    1719.50\n",
       "2022-07-22    1738.30\n",
       "2022-07-24    1725.05\n",
       "2022-07-25    1734.60\n",
       "2022-07-26    1726.30\n",
       "Name: High, Length: 5779, dtype: float64"
      ]
     },
     "execution_count": 30,
     "metadata": {},
     "output_type": "execute_result"
    }
   ],
   "source": [
    "df.groupby(\"Date\").max()[\"High\"]"
   ]
  },
  {
   "cell_type": "code",
   "execution_count": 31,
   "id": "05a06a02",
   "metadata": {},
   "outputs": [
    {
     "data": {
      "text/plain": [
       "Low\n",
       "255.0     2001-02-16\n",
       "255.5     2001-04-03\n",
       "255.6     2001-02-15\n",
       "256.5     2001-04-11\n",
       "256.6     2001-02-21\n",
       "             ...    \n",
       "1998.6    2022-03-08\n",
       "2011.0    2020-08-07\n",
       "2011.2    2020-08-05\n",
       "2015.7    2020-08-10\n",
       "2033.6    2020-08-06\n",
       "Name: Date, Length: 4377, dtype: object"
      ]
     },
     "execution_count": 31,
     "metadata": {},
     "output_type": "execute_result"
    }
   ],
   "source": [
    "df.groupby(\"Low\").min()[\"Date\"]"
   ]
  },
  {
   "cell_type": "code",
   "execution_count": 32,
   "id": "6ca9d91e",
   "metadata": {},
   "outputs": [
    {
     "data": {
      "text/plain": [
       "Low\n",
       "255.0     2001-04-02\n",
       "255.5     2001-04-03\n",
       "255.6     2001-02-15\n",
       "256.5     2001-04-11\n",
       "256.6     2001-04-10\n",
       "             ...    \n",
       "1998.6    2022-03-08\n",
       "2011.0    2020-08-07\n",
       "2011.2    2020-08-05\n",
       "2015.7    2020-08-10\n",
       "2033.6    2020-08-06\n",
       "Name: Date, Length: 4377, dtype: object"
      ]
     },
     "execution_count": 32,
     "metadata": {},
     "output_type": "execute_result"
    }
   ],
   "source": [
    "df.groupby(\"Low\").max()[\"Date\"]"
   ]
  },
  {
   "cell_type": "code",
   "execution_count": 33,
   "id": "c0ce1b66",
   "metadata": {},
   "outputs": [
    {
     "data": {
      "text/plain": [
       "Volume\n",
       "0         2000-01-06\n",
       "1         2000-01-24\n",
       "2         2000-02-18\n",
       "3         2000-10-13\n",
       "4         2000-01-04\n",
       "             ...    \n",
       "659625    2020-03-06\n",
       "674982    2019-11-07\n",
       "745843    2020-02-28\n",
       "813406    2020-01-08\n",
       "816531    2016-11-09\n",
       "Name: Date, Length: 2298, dtype: object"
      ]
     },
     "execution_count": 33,
     "metadata": {},
     "output_type": "execute_result"
    }
   ],
   "source": [
    "df.groupby(\"Volume\").min()[\"Date\"]"
   ]
  },
  {
   "cell_type": "code",
   "execution_count": 34,
   "id": "1d4c113d",
   "metadata": {},
   "outputs": [
    {
     "data": {
      "text/plain": [
       "Volume\n",
       "0         2022-07-26\n",
       "1         2021-07-27\n",
       "2         2021-09-02\n",
       "3         2021-07-20\n",
       "4         2021-08-27\n",
       "             ...    \n",
       "659625    2020-03-06\n",
       "674982    2019-11-07\n",
       "745843    2020-02-28\n",
       "813406    2020-01-08\n",
       "816531    2016-11-09\n",
       "Name: Date, Length: 2298, dtype: object"
      ]
     },
     "execution_count": 34,
     "metadata": {},
     "output_type": "execute_result"
    }
   ],
   "source": [
    "df.groupby(\"Volume\").max()[\"Date\"]"
   ]
  },
  {
   "cell_type": "code",
   "execution_count": 35,
   "id": "9d7047ed",
   "metadata": {},
   "outputs": [
    {
     "data": {
      "text/plain": [
       "2085.2"
      ]
     },
     "execution_count": 35,
     "metadata": {},
     "output_type": "execute_result"
    }
   ],
   "source": [
    "df[\"High\"].max()"
   ]
  },
  {
   "cell_type": "code",
   "execution_count": 36,
   "id": "70f37ac1",
   "metadata": {},
   "outputs": [
    {
     "data": {
      "text/plain": [
       "255.0"
      ]
     },
     "execution_count": 36,
     "metadata": {},
     "output_type": "execute_result"
    }
   ],
   "source": [
    "df[\"High\"].min()"
   ]
  },
  {
   "cell_type": "code",
   "execution_count": 37,
   "id": "3b9a8a37",
   "metadata": {},
   "outputs": [
    {
     "data": {
      "text/plain": [
       "1050.4288146738197"
      ]
     },
     "execution_count": 37,
     "metadata": {},
     "output_type": "execute_result"
    }
   ],
   "source": [
    "df[\"High\"].mean()"
   ]
  },
  {
   "cell_type": "code",
   "execution_count": 38,
   "id": "3c898960",
   "metadata": {},
   "outputs": [
    {
     "data": {
      "text/plain": [
       "2033.6"
      ]
     },
     "execution_count": 38,
     "metadata": {},
     "output_type": "execute_result"
    }
   ],
   "source": [
    "df[\"Low\"].max()"
   ]
  },
  {
   "cell_type": "code",
   "execution_count": 39,
   "id": "1bb098af",
   "metadata": {},
   "outputs": [
    {
     "data": {
      "text/plain": [
       "255.0"
      ]
     },
     "execution_count": 39,
     "metadata": {},
     "output_type": "execute_result"
    }
   ],
   "source": [
    "df[\"Low\"].min()"
   ]
  },
  {
   "cell_type": "code",
   "execution_count": 40,
   "id": "c1cd6f60",
   "metadata": {},
   "outputs": [
    {
     "data": {
      "text/plain": [
       "1038.251678491087"
      ]
     },
     "execution_count": 40,
     "metadata": {},
     "output_type": "execute_result"
    }
   ],
   "source": [
    "df[\"Low\"].mean()"
   ]
  },
  {
   "cell_type": "code",
   "execution_count": 41,
   "id": "cd7b0a6f",
   "metadata": {},
   "outputs": [
    {
     "data": {
      "text/plain": [
       "816531"
      ]
     },
     "execution_count": 41,
     "metadata": {},
     "output_type": "execute_result"
    }
   ],
   "source": [
    "df[\"Volume\"].max()"
   ]
  },
  {
   "cell_type": "code",
   "execution_count": 42,
   "id": "32567593",
   "metadata": {},
   "outputs": [
    {
     "data": {
      "text/plain": [
       "0"
      ]
     },
     "execution_count": 42,
     "metadata": {},
     "output_type": "execute_result"
    }
   ],
   "source": [
    "df[\"Volume\"].min()"
   ]
  },
  {
   "cell_type": "code",
   "execution_count": 43,
   "id": "3891799e",
   "metadata": {},
   "outputs": [
    {
     "data": {
      "text/plain": [
       "32033.9134798408"
      ]
     },
     "execution_count": 43,
     "metadata": {},
     "output_type": "execute_result"
    }
   ],
   "source": [
    "df[\"Volume\"].mean()"
   ]
  },
  {
   "cell_type": "code",
   "execution_count": 44,
   "id": "394507b0",
   "metadata": {},
   "outputs": [
    {
     "data": {
      "text/plain": [
       "89350.39979368441"
      ]
     },
     "execution_count": 44,
     "metadata": {},
     "output_type": "execute_result"
    }
   ],
   "source": [
    "df[\"Volume\"].std()"
   ]
  },
  {
   "cell_type": "code",
   "execution_count": null,
   "id": "06071ac0",
   "metadata": {},
   "outputs": [],
   "source": []
  },
  {
   "cell_type": "code",
   "execution_count": null,
   "id": "74e98adb",
   "metadata": {},
   "outputs": [],
   "source": []
  },
  {
   "cell_type": "code",
   "execution_count": null,
   "id": "eb1c27a2",
   "metadata": {},
   "outputs": [],
   "source": []
  }
 ],
 "metadata": {
  "kernelspec": {
   "display_name": "Python 3",
   "language": "python",
   "name": "python3"
  },
  "language_info": {
   "codemirror_mode": {
    "name": "ipython",
    "version": 3
   },
   "file_extension": ".py",
   "mimetype": "text/x-python",
   "name": "python",
   "nbconvert_exporter": "python",
   "pygments_lexer": "ipython3",
   "version": "3.8.8"
  }
 },
 "nbformat": 4,
 "nbformat_minor": 5
}
